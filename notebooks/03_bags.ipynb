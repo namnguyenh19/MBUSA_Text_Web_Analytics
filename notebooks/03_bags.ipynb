{
 "cells": [
  {
   "cell_type": "code",
   "execution_count": 5,
   "metadata": {},
   "outputs": [],
   "source": [
    "import re\n",
    "import nltk\n",
    "import pandas as pd\n",
    "from nltk.corpus import stopwords\n",
    "from collections import defaultdict\n",
    "from spellchecker import SpellChecker\n",
    "from kedro.pipeline.decorators import log_time"
   ]
  },
  {
   "cell_type": "code",
   "execution_count": 3,
   "metadata": {},
   "outputs": [
    {
     "name": "stdout",
     "output_type": "stream",
     "text": [
      "2019-06-15 23:22:56,130 - kedro.io.data_catalog - INFO - Loading data from `reviews_master` (PickleLocalDataSet)...\n"
     ]
    }
   ],
   "source": [
    "reviews = io.load('reviews_master')"
   ]
  },
  {
   "cell_type": "code",
   "execution_count": 29,
   "metadata": {},
   "outputs": [],
   "source": [
    "# Strip punctuation\n",
    "\n",
    "def _remove_punc(text):\n",
    "    return re.sub(r'[^\\w\\s]','', text)\n",
    "\n",
    "porter = nltk.PorterStemmer() \n",
    "\n",
    "spell = SpellChecker()\n",
    "\n",
    "def _remove_extensions(lst):\n",
    "    pattern = re.compile(r\"(.)\\1{2,}\")\n",
    "    return [pattern.sub(r\"\\1\", w) for w in lst]\n",
    "\n",
    "def  _fix_spelling(lst):\n",
    "    return [spell.correction(x) for x in lst]\n",
    "\n",
    "def _stem_words(lst):\n",
    "    return [porter.stem(x) for x in lst]\n",
    "\n",
    "stop_words = set(stopwords.words('english'))\n",
    "stop_words = [_remove_punc(x) for x in stop_words]\n",
    "\n",
    "def _remove_stops(lst):\n",
    "    return [x for x in lst if x not in stop_words]\n",
    "\n",
    "def _count_words(lst):\n",
    "    word_freq = defaultdict(int)\n",
    "    for w in lst:\n",
    "        word_freq[w] += 1\n",
    "    return word_freq\n",
    "\n",
    "def create_bag(text):\n",
    "    text = _remove_punc(text)\n",
    "    text = text.lower()\n",
    "    words = nltk.word_tokenize(text)\n",
    "#     words = _remove_extensions(words)\n",
    "#     words = _fix_spelling(words)\n",
    "    words = _remove_stops(words)\n",
    "    freq = _count_words(words)\n",
    "    return freq"
   ]
  },
  {
   "cell_type": "code",
   "execution_count": 31,
   "metadata": {},
   "outputs": [
    {
     "data": {
      "text/plain": [
       "id\n",
       "0        {'absolutely': 1, 'wonderful': 1, 'silky': 1, ...\n",
       "1        {'love': 2, 'dress': 1, 'sooo': 1, 'pretty': 1...\n",
       "2        {'high': 1, 'hopes': 1, 'dress': 1, 'really': ...\n",
       "3        {'love': 3, 'jumpsuit': 1, 'fun': 1, 'flirty':...\n",
       "4        {'shirt': 2, 'flattering': 1, 'due': 1, 'adjus...\n",
       "5        {'love': 2, 'tracy': 1, 'reese': 1, 'dresses':...\n",
       "6        {'aded': 1, 'basket': 1, 'hte': 4, 'last': 1, ...\n",
       "7        {'ordered': 1, 'carbon': 1, 'store': 1, 'pick'...\n",
       "8        {'love': 1, 'dress': 1, 'usually': 1, 'get': 1...\n",
       "9        {'im': 1, '55': 1, '125': 1, 'lbs': 1, 'ordere...\n",
       "10       {'dress': 2, 'runs': 2, 'small': 1, 'esp': 1, ...\n",
       "11       {'dress': 1, 'perfection': 1, 'pretty': 1, 'fl...\n",
       "12       {'find': 1, 'reliant': 1, 'reviews': 1, 'writt...\n",
       "13       {'bought': 1, 'black': 1, 'xs': 2, 'go': 1, 'l...\n",
       "14       {'nice': 1, 'choice': 1, 'holiday': 1, 'gather...\n",
       "15       {'took': 1, 'package': 1, 'wanted': 1, 'fit': ...\n",
       "16       {'material': 1, 'color': 1, 'nice': 1, 'leg': ...\n",
       "17       {'took': 1, 'chance': 1, 'blouse': 2, 'glad': ...\n",
       "18       {'flattering': 1, 'super': 1, 'cozy': 1, 'coat...\n",
       "19       {'love': 1, 'look': 2, 'feel': 1, 'tulle': 2, ...\n",
       "20       {'product': 1, 'petite': 2, 'would': 1, 'get':...\n",
       "21       {'im': 1, 'upset': 1, 'price': 2, 'dress': 1, ...\n",
       "22       {'first': 1, 'pullover': 1, 'styling': 1, 'sid...\n",
       "23       {'cute': 1, 'little': 2, 'dress': 2, 'fits': 1...\n",
       "24       {'love': 1, 'shirt': 2, 'first': 1, 'saw': 1, ...\n",
       "25       {'loved': 1, 'material': 2, 'really': 1, 'look...\n",
       "26       {'waiting': 1, 'sweater': 1, 'coat': 3, 'ship'...\n",
       "27       {'colors': 1, 'expected': 1, 'either': 1, 'dar...\n",
       "28       {'several': 1, 'goodhyouman': 1, 'shirts': 1, ...\n",
       "29       {'sweater': 1, 'comfy': 1, 'classic': 1, 'bala...\n",
       "                               ...                        \n",
       "23454    {'fabric': 3, 'thick': 1, 'textured': 1, 'almo...\n",
       "23455    {'cute': 1, 'dress': 2, 'keep': 1, 'mainly': 1...\n",
       "23456    {'search': 1, 'dress': 2, 'sleeves': 1, 'cute'...\n",
       "23457    {'pants': 1, 'soft': 1, 'fun': 1, 'print': 1, ...\n",
       "23458    {'new': 1, 'favorite': 1, 'sweater': 1, 'light...\n",
       "23459    {'new': 1, 'favorite': 1, 'dress': 4, 'complai...\n",
       "23460    {'purchased': 1, 'good': 1, 'price': 1, 'typic...\n",
       "23461    {'tried': 1, 'store': 1, 'fit': 1, 'good': 1, ...\n",
       "23462    {'pattern': 1, 'skirt': 1, 'adorable': 1, 'loo...\n",
       "23463    {'pants': 2, 'overall': 1, 'comfortable': 1, '...\n",
       "23464    {'wore': 1, 'dress': 2, 'work': 1, 'day': 1, '...\n",
       "23465    {'bought': 1, 'dress': 1, 'work': 3, 'post': 1...\n",
       "23466    {'dress': 1, 'great': 2, 'design': 1, 'fits': ...\n",
       "23467    {'worry': 1, 'elastic': 1, 'waist': 1, 'someth...\n",
       "23468    {'love': 1, 'little': 1, 'chemise': 1, 'adjust...\n",
       "23469    {'size': 3, 'available': 1, 'based': 1, 'revie...\n",
       "23471    {'love': 1, 'way': 1, 'pants': 1, 'look': 1, '...\n",
       "23472    {'saw': 1, 'shirt': 1, 'retailer': 1, 'website...\n",
       "23473    {'great': 1, 'quality': 1, 'extremely': 1, 'fl...\n",
       "23474    {'yes': 1, 'great': 3, 'dress': 2, 'sure': 1, ...\n",
       "23475    {'cute': 1, 'dress': 2, 'waist': 1, 'high': 1,...\n",
       "23476    {'bottoms': 1, 'cute': 1, 'defiantly': 1, 'che...\n",
       "23477    {'im': 1, 'impressed': 1, 'beautiful': 1, 'col...\n",
       "23478    {'surprised': 1, 'positive': 1, 'reviews': 1, ...\n",
       "23479    {'sure': 1, 'ordering': 1, 'skirt': 3, 'see': ...\n",
       "23481    {'happy': 1, 'snag': 1, 'dress': 1, 'great': 1...\n",
       "23482    {'reminds': 1, 'maternity': 1, 'clothes': 1, '...\n",
       "23483    {'fit': 1, 'well': 1, 'top': 1, 'see': 1, 'nev...\n",
       "23484    {'bought': 1, 'dress': 2, 'wedding': 1, 'summe...\n",
       "23485    {'dress': 1, 'lovely': 1, 'platinum': 1, 'femi...\n",
       "Name: review_text, Length: 22641, dtype: object"
      ]
     },
     "execution_count": 31,
     "metadata": {},
     "output_type": "execute_result"
    }
   ],
   "source": [
    "corpus = reviews['review_text']\n",
    "corpus.apply(create_bag)"
   ]
  }
 ],
 "metadata": {
  "kernelspec": {
   "display_name": "Python 3",
   "language": "python",
   "name": "python3"
  }
 },
 "nbformat": 4,
 "nbformat_minor": 2
}
