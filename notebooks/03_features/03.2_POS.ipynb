{
 "cells": [
  {
   "cell_type": "code",
   "execution_count": 45,
   "metadata": {},
   "outputs": [],
   "source": [
    "import nltk\n",
    "from nltk import word_tokenize, pos_tag"
   ]
  },
  {
   "cell_type": "code",
   "execution_count": 1,
   "metadata": {},
   "outputs": [
    {
     "name": "stdout",
     "output_type": "stream",
     "text": [
      "2019-06-26 09:37:05,647 - kedro.io.data_catalog - INFO - Loading data from `reviews_master` (PickleLocalDataSet)...\n"
     ]
    }
   ],
   "source": [
    "reviews = io.load('reviews_master')"
   ]
  },
  {
   "cell_type": "code",
   "execution_count": 31,
   "metadata": {},
   "outputs": [
    {
     "data": {
      "text/plain": [
       "[('This', 'DT'),\n",
       " ('shirt', 'NN'),\n",
       " ('is', 'VBZ'),\n",
       " ('very', 'RB'),\n",
       " ('flattering', 'JJ'),\n",
       " ('to', 'TO'),\n",
       " ('all', 'DT'),\n",
       " ('due', 'JJ'),\n",
       " ('to', 'TO'),\n",
       " ('the', 'DT'),\n",
       " ('adjustable', 'JJ'),\n",
       " ('front', 'NN'),\n",
       " ('tie', 'NN'),\n",
       " ('.', '.'),\n",
       " ('it', 'PRP'),\n",
       " ('is', 'VBZ'),\n",
       " ('the', 'DT'),\n",
       " ('perfect', 'JJ'),\n",
       " ('length', 'NN'),\n",
       " ('to', 'TO'),\n",
       " ('wear', 'VB'),\n",
       " ('with', 'IN'),\n",
       " ('leggings', 'NNS'),\n",
       " ('and', 'CC'),\n",
       " ('it', 'PRP'),\n",
       " ('is', 'VBZ'),\n",
       " ('sleeveless', 'RB'),\n",
       " ('so', 'IN'),\n",
       " ('it', 'PRP'),\n",
       " ('pairs', 'VBZ'),\n",
       " ('well', 'RB'),\n",
       " ('with', 'IN'),\n",
       " ('any', 'DT'),\n",
       " ('cardigan', 'NN'),\n",
       " ('.', '.'),\n",
       " ('love', 'VB'),\n",
       " ('this', 'DT'),\n",
       " ('shirt', 'NN'),\n",
       " ('!', '.'),\n",
       " ('!', '.'),\n",
       " ('!', '.')]"
      ]
     },
     "execution_count": 31,
     "metadata": {},
     "output_type": "execute_result"
    }
   ],
   "source": [
    "test = reviews.review_text[4]\n",
    "words = word_tokenize(test)\n",
    "tags = pos_tag(words); tags"
   ]
  },
  {
   "cell_type": "code",
   "execution_count": 37,
   "metadata": {},
   "outputs": [
    {
     "data": {
      "text/plain": [
       "['shirt', 'front', 'tie', 'length', 'leggings', 'cardigan', 'shirt']"
      ]
     },
     "execution_count": 37,
     "metadata": {},
     "output_type": "execute_result"
    }
   ],
   "source": [
    "nouns = [w for w, t in tags if t.startswith(\"NN\")]; nouns"
   ]
  },
  {
   "cell_type": "code",
   "execution_count": 38,
   "metadata": {},
   "outputs": [
    {
     "data": {
      "text/plain": [
       "['flattering', 'due', 'adjustable', 'perfect']"
      ]
     },
     "execution_count": 38,
     "metadata": {},
     "output_type": "execute_result"
    }
   ],
   "source": [
    "adjs = [w for w, t in tags if t.startswith(\"J\")]; adjs"
   ]
  },
  {
   "cell_type": "code",
   "execution_count": 39,
   "metadata": {},
   "outputs": [
    {
     "data": {
      "text/plain": [
       "['is', 'is', 'wear', 'is', 'pairs', 'love']"
      ]
     },
     "execution_count": 39,
     "metadata": {},
     "output_type": "execute_result"
    }
   ],
   "source": [
    "verbs = [w for w, t in tags if t.startswith(\"V\")]; verbs"
   ]
  }
 ],
 "metadata": {
  "kernelspec": {
   "display_name": "Python 3",
   "language": "python",
   "name": "python3"
  },
  "language_info": {
   "codemirror_mode": {
    "name": "ipython",
    "version": 3
   },
   "file_extension": ".py",
   "mimetype": "text/x-python",
   "name": "python",
   "nbconvert_exporter": "python",
   "pygments_lexer": "ipython3",
   "version": "3.7.0"
  }
 },
 "nbformat": 4,
 "nbformat_minor": 2
}
